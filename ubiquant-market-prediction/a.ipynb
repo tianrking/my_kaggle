{
 "cells": [
  {
   "cell_type": "code",
   "execution_count": 2,
   "metadata": {},
   "outputs": [
    {
     "name": "stdout",
     "output_type": "stream",
     "text": [
      "Requirement already satisfied: kaggle in /home/k8s/miniconda3/lib/python3.9/site-packages (1.5.12)\n",
      "Requirement already satisfied: six>=1.10 in /home/k8s/miniconda3/lib/python3.9/site-packages (from kaggle) (1.16.0)\n",
      "Requirement already satisfied: requests in /home/k8s/miniconda3/lib/python3.9/site-packages (from kaggle) (2.27.1)\n",
      "Requirement already satisfied: tqdm in /home/k8s/miniconda3/lib/python3.9/site-packages (from kaggle) (4.62.3)\n",
      "Requirement already satisfied: python-dateutil in /home/k8s/miniconda3/lib/python3.9/site-packages (from kaggle) (2.8.2)\n",
      "Requirement already satisfied: python-slugify in /home/k8s/miniconda3/lib/python3.9/site-packages (from kaggle) (6.1.1)\n",
      "Requirement already satisfied: urllib3 in /home/k8s/miniconda3/lib/python3.9/site-packages (from kaggle) (1.26.7)\n",
      "Requirement already satisfied: certifi in /home/k8s/miniconda3/lib/python3.9/site-packages (from kaggle) (2021.10.8)\n",
      "Requirement already satisfied: text-unidecode>=1.3 in /home/k8s/miniconda3/lib/python3.9/site-packages (from python-slugify->kaggle) (1.3)\n",
      "Requirement already satisfied: charset-normalizer~=2.0.0 in /home/k8s/miniconda3/lib/python3.9/site-packages (from requests->kaggle) (2.0.4)\n",
      "Requirement already satisfied: idna<4,>=2.5 in /home/k8s/miniconda3/lib/python3.9/site-packages (from requests->kaggle) (3.3)\n"
     ]
    }
   ],
   "source": [
    "!pip install kaggle"
   ]
  },
  {
   "cell_type": "code",
   "execution_count": 5,
   "metadata": {},
   "outputs": [],
   "source": [
    "import json\n",
    "token = {\"username\":\"w0x7ce\",\"key\":\"5bce11ef3343047aea42dd54f945ad93\"}\n",
    "with open('/home/k8s/.kaggle/kaggle.json', 'w') as file:\n",
    "  json.dump(token, file)\n",
    "\n",
    "!chmod 600 /home/k8s/.kaggle/kaggle.json"
   ]
  },
  {
   "cell_type": "code",
   "execution_count": 6,
   "metadata": {},
   "outputs": [
    {
     "name": "stdout",
     "output_type": "stream",
     "text": [
      "Downloading ubiquant-market-prediction.zip to /storage/k8s/my_kaggle/ubiquant-market-prediction\n",
      "100%|█████████████████████████████████████▉| 9.86G/9.86G [15:42<00:00, 6.56MB/s]\n",
      "100%|██████████████████████████████████████| 9.86G/9.86G [15:42<00:00, 11.2MB/s]\n"
     ]
    }
   ],
   "source": [
    "!kaggle competitions download -c ubiquant-market-prediction"
   ]
  },
  {
   "cell_type": "code",
   "execution_count": 7,
   "metadata": {},
   "outputs": [
    {
     "name": "stdout",
     "output_type": "stream",
     "text": [
      "  row_id  time_id  investment_id    target       f_0       f_1       f_2  \\\n",
      "0    0_1        0              1 -0.300875  0.932573  0.113691 -0.402206   \n",
      "1    0_2        0              2 -0.231040  0.810802 -0.514115  0.742368   \n",
      "2    0_6        0              6  0.568807  0.393974  0.615937  0.567806   \n",
      "3    0_7        0              7 -1.064780 -2.343535 -0.011870  1.874606   \n",
      "4    0_8        0              8 -0.531940  0.842057 -0.262993  2.330030   \n",
      "\n",
      "        f_3       f_4       f_5  ...     f_290     f_291     f_292     f_293  \\\n",
      "0  0.378386 -0.203938 -0.413469  ...  0.366028 -1.095620  0.200075  0.819155   \n",
      "1 -0.616673 -0.194255  1.771210  ... -0.154193  0.912726 -0.734579  0.819155   \n",
      "2 -0.607963  0.068883 -1.083155  ... -0.138020  0.912726 -0.551904 -1.220772   \n",
      "3 -0.606346 -0.586827 -0.815737  ...  0.382201  0.912726 -0.266359 -1.220772   \n",
      "4 -0.583422 -0.618392 -0.742814  ... -0.170365  0.912726 -0.741355 -1.220772   \n",
      "\n",
      "      f_294     f_295     f_296     f_297     f_298     f_299  \n",
      "0  0.941183 -0.086764 -1.087009 -1.044826 -0.287605  0.321566  \n",
      "1  0.941183 -0.387617 -1.087009 -0.929529 -0.974060 -0.343624  \n",
      "2 -1.060166 -0.219097 -1.087009 -0.612428 -0.113944  0.243608  \n",
      "3  0.941183 -0.609113  0.104928 -0.783423  1.151730 -0.773309  \n",
      "4  0.941183 -0.588445  0.104928  0.753279  1.345611 -0.737624  \n",
      "\n",
      "[5 rows x 304 columns]\n"
     ]
    }
   ],
   "source": [
    "import pandas as pd\n",
    "df = pd.read_csv(\"/storage/k8s/my_kaggle/ubiquant-market-prediction/train.csv\")\n",
    "print(df.head())"
   ]
  },
  {
   "cell_type": "code",
   "execution_count": 8,
   "metadata": {},
   "outputs": [
    {
     "name": "stdout",
     "output_type": "stream",
     "text": [
      "            row_id  time_id  investment_id    target       f_0       f_1  \\\n",
      "3141405  1219_3768     1219           3768  0.033600  0.093530 -0.720275   \n",
      "3141406  1219_3769     1219           3769 -0.223264 -1.344935 -0.199987   \n",
      "3141407  1219_3770     1219           3770 -0.559415  0.979489 -1.110491   \n",
      "3141408  1219_3772     1219           3772  0.009599 -2.565332  0.320301   \n",
      "3141409  1219_3773     1219           3773  1.212112 -0.089557  0.190229   \n",
      "\n",
      "              f_2       f_3       f_4       f_5  ...     f_290     f_291  \\\n",
      "3141405 -0.345497 -0.438781 -0.166972 -0.437182  ... -0.285908 -1.232434   \n",
      "3141406 -0.107702 -0.454677 -0.221914 -0.141174  ...  0.184517 -1.232434   \n",
      "3141407  1.006980 -0.467307 -0.159549  1.355671  ... -0.756332 -1.232434   \n",
      "3141408  0.076600  1.380182 -0.155366 -0.689000  ... -0.756332 -1.232434   \n",
      "3141409 -0.548256  0.151205  0.079773  0.447962  ... -0.317095  0.811402   \n",
      "\n",
      "            f_292     f_293     f_294     f_295     f_296     f_297     f_298  \\\n",
      "3141405 -0.660579  0.875537  0.421628 -0.428097 -0.075548 -0.533092 -0.193732   \n",
      "3141406 -0.670493  0.875537  0.421628 -0.729949 -1.514277  0.013145 -0.890270   \n",
      "3141407  0.820784 -1.142157  0.421628 -0.363329  1.363181 -0.079106 -1.580124   \n",
      "3141408  0.133074 -1.142157  0.421628 -0.375288 -1.514277 -0.973762  0.608647   \n",
      "3141409  3.271590  0.875537  0.421628 -0.170709  1.363181 -0.563314  0.669586   \n",
      "\n",
      "            f_299  \n",
      "3141405 -0.581394  \n",
      "3141406 -0.589705  \n",
      "3141407 -0.297625  \n",
      "3141408 -0.372040  \n",
      "3141409  0.456400  \n",
      "\n",
      "[5 rows x 304 columns]\n"
     ]
    }
   ],
   "source": [
    "print(df.tail())"
   ]
  },
  {
   "cell_type": "code",
   "execution_count": null,
   "metadata": {},
   "outputs": [],
   "source": [
    "!pip3 install -U scikit-learn"
   ]
  },
  {
   "cell_type": "code",
   "execution_count": 10,
   "metadata": {},
   "outputs": [],
   "source": [
    "import pandas as pd\n",
    "from sklearn.preprocessing import LabelEncoder\n"
   ]
  },
  {
   "cell_type": "code",
   "execution_count": 11,
   "metadata": {},
   "outputs": [
    {
     "name": "stdout",
     "output_type": "stream",
     "text": [
      "Unexpected exception formatting exception. Falling back to standard exception\n"
     ]
    },
    {
     "name": "stderr",
     "output_type": "stream",
     "text": [
      "Traceback (most recent call last):\n",
      "  File \"/home/k8s/miniconda3/lib/python3.9/site-packages/IPython/core/interactiveshell.py\", line 3369, in run_code\n",
      "    exec(code_obj, self.user_global_ns, self.user_ns)\n",
      "  File \"/tmp/ipykernel_2529237/3369176366.py\", line 5, in <cell line: 5>\n",
      "    sel.fit_transform(df)\n",
      "  File \"/home/k8s/miniconda3/lib/python3.9/site-packages/sklearn/base.py\", line 852, in fit_transform\n",
      "    return self.fit(X, **fit_params).transform(X)\n",
      "  File \"/home/k8s/miniconda3/lib/python3.9/site-packages/sklearn/feature_selection/_variance_threshold.py\", line 104, in fit\n",
      "    self.variances_ = np.nanvar(X, axis=0)\n",
      "  File \"<__array_function__ internals>\", line 180, in nanvar\n",
      "  File \"/home/k8s/miniconda3/lib/python3.9/site-packages/numpy/lib/nanfunctions.py\", line 1713, in nanvar\n",
      "  File \"/home/k8s/miniconda3/lib/python3.9/site-packages/numpy/lib/nanfunctions.py\", line 107, in _replace_nan\n",
      "    a = np.array(a, subok=True, copy=True)\n",
      "KeyboardInterrupt\n",
      "\n",
      "During handling of the above exception, another exception occurred:\n",
      "\n",
      "Traceback (most recent call last):\n",
      "  File \"/home/k8s/miniconda3/lib/python3.9/site-packages/IPython/core/interactiveshell.py\", line 1982, in showtraceback\n",
      "    stb = self.InteractiveTB.structured_traceback(\n",
      "  File \"/home/k8s/miniconda3/lib/python3.9/site-packages/IPython/core/ultratb.py\", line 1118, in structured_traceback\n",
      "    return FormattedTB.structured_traceback(\n",
      "  File \"/home/k8s/miniconda3/lib/python3.9/site-packages/IPython/core/ultratb.py\", line 1012, in structured_traceback\n",
      "    return VerboseTB.structured_traceback(\n",
      "  File \"/home/k8s/miniconda3/lib/python3.9/site-packages/IPython/core/ultratb.py\", line 865, in structured_traceback\n",
      "    formatted_exception = self.format_exception_as_a_whole(etype, evalue, etb, number_of_lines_of_context,\n",
      "  File \"/home/k8s/miniconda3/lib/python3.9/site-packages/IPython/core/ultratb.py\", line 818, in format_exception_as_a_whole\n",
      "    frames.append(self.format_record(r))\n",
      "  File \"/home/k8s/miniconda3/lib/python3.9/site-packages/IPython/core/ultratb.py\", line 736, in format_record\n",
      "    result += ''.join(_format_traceback_lines(frame_info.lines, Colors, self.has_colors, lvals))\n",
      "  File \"/home/k8s/miniconda3/lib/python3.9/site-packages/stack_data/utils.py\", line 145, in cached_property_wrapper\n",
      "    value = obj.__dict__[self.func.__name__] = self.func(obj)\n",
      "  File \"/home/k8s/miniconda3/lib/python3.9/site-packages/stack_data/core.py\", line 698, in lines\n",
      "    pieces = self.included_pieces\n",
      "  File \"/home/k8s/miniconda3/lib/python3.9/site-packages/stack_data/utils.py\", line 145, in cached_property_wrapper\n",
      "    value = obj.__dict__[self.func.__name__] = self.func(obj)\n",
      "  File \"/home/k8s/miniconda3/lib/python3.9/site-packages/stack_data/core.py\", line 649, in included_pieces\n",
      "    pos = scope_pieces.index(self.executing_piece)\n",
      "  File \"/home/k8s/miniconda3/lib/python3.9/site-packages/stack_data/utils.py\", line 145, in cached_property_wrapper\n",
      "    value = obj.__dict__[self.func.__name__] = self.func(obj)\n",
      "  File \"/home/k8s/miniconda3/lib/python3.9/site-packages/stack_data/core.py\", line 628, in executing_piece\n",
      "    return only(\n",
      "  File \"/home/k8s/miniconda3/lib/python3.9/site-packages/executing/executing.py\", line 164, in only\n",
      "    raise NotOneValueFound('Expected one value, found 0')\n",
      "executing.executing.NotOneValueFound: Expected one value, found 0\n"
     ]
    }
   ],
   "source": [
    "from sklearn import feature_selection as fs\n",
    "from sklearn import datasets\n",
    "\n",
    "sel=fs.VarianceThreshold(threshold=0.8*(1-0.8))\n",
    "sel.fit_transform(df)"
   ]
  }
 ],
 "metadata": {
  "interpreter": {
   "hash": "b46a932e3b7b0cd80073b673899a11ce8dc921d56c0609343ea227cbd145a563"
  },
  "kernelspec": {
   "display_name": "Python 3.9.7 ('base': conda)",
   "language": "python",
   "name": "python3"
  },
  "language_info": {
   "codemirror_mode": {
    "name": "ipython",
    "version": 3
   },
   "file_extension": ".py",
   "mimetype": "text/x-python",
   "name": "python",
   "nbconvert_exporter": "python",
   "pygments_lexer": "ipython3",
   "version": "3.9.7"
  },
  "orig_nbformat": 4
 },
 "nbformat": 4,
 "nbformat_minor": 2
}
